{
 "cells": [
  {
   "cell_type": "markdown",
   "id": "269068ce-fc69-4fde-9910-7e16f2527acd",
   "metadata": {},
   "source": [
    "# How to use Decima"
   ]
  },
  {
   "cell_type": "code",
   "execution_count": 3,
   "id": "df9c609a-58b8-422d-8e40-8b543067e8ba",
   "metadata": {},
   "outputs": [],
   "source": [
    "import numpy as np\n",
    "import pandas as pd\n",
    "import anndata\n",
    "import torch\n",
    "import os, sys\n",
    "\n",
    "# Import Decima functions\n",
    "sys.path.append('../src/')\n",
    "\n",
    "%matplotlib inline"
   ]
  },
  {
   "cell_type": "markdown",
   "id": "929a0ea3-b6d3-42fe-bb22-d78cfe57385f",
   "metadata": {},
   "source": [
    "## Important file paths"
   ]
  },
  {
   "cell_type": "code",
   "execution_count": 2,
   "id": "67a4320c-28d8-41d5-9a9c-cafc821bb141",
   "metadata": {},
   "outputs": [
    {
     "name": "stdout",
     "output_type": "stream",
     "text": [
      "Anndata containing data and predictions: /gstore/data/resbioai/grelu/decima/20240823/data.h5ad\n",
      "Gene sequences: /gstore/data/resbioai/grelu/decima/20240823/data.h5\n",
      "Primary model checkpoint: /gstore/data/resbioai/grelu/decima/20240823/lightning_logs/kugrjb50/checkpoints/epoch=3-step=2920.ckpt\n"
     ]
    }
   ],
   "source": [
    "# Folder\n",
    "latest_version = '20240823'\n",
    "save_dir = f\"/gstore/data/resbioai/grelu/decima/{latest_version}\"\n",
    "\n",
    "# Data\n",
    "matrix_file = os.path.join(save_dir, \"data.h5ad\") # Includes predictions\n",
    "h5_file = os.path.join(save_dir, \"data.h5\")\n",
    "\n",
    "# Model checkpoints\n",
    "ckpt_dir = os.path.join(save_dir, 'lightning_logs')\n",
    "ckpts = [\n",
    "     os.path.join(ckpt_dir, 'kugrjb50/checkpoints/epoch=3-step=2920.ckpt'),\n",
    "     os.path.join(ckpt_dir, 'i68hdsdk/checkpoints/epoch=2-step=2190.ckpt'),\n",
    "     os.path.join(ckpt_dir, '0as9e8of/checkpoints/epoch=7-step=5840.ckpt'),\n",
    "     os.path.join(ckpt_dir, 'i9zsp4nm/checkpoints/epoch=8-step=6570.ckpt'),\n",
    "    ]\n",
    "\n",
    "primary_ckpt = ckpts[0]\n",
    "\n",
    "print(f'Anndata containing data and predictions: {matrix_file}')\n",
    "print(f'Gene sequences: {h5_file}')\n",
    "print(f'Primary model checkpoint: {primary_ckpt}')"
   ]
  },
  {
   "cell_type": "markdown",
   "id": "82ef1dee-74bf-455d-b650-3cc50c2d6056",
   "metadata": {},
   "source": [
    "## How to find predictions for a gene of interest"
   ]
  },
  {
   "cell_type": "markdown",
   "id": "98ffd899-d2e6-4a83-814b-d843f0289a84",
   "metadata": {},
   "source": [
    "Both the true and predicted log(CPM+1) matrices are saved in `matrix_file`."
   ]
  },
  {
   "cell_type": "code",
   "execution_count": 3,
   "id": "f81c2544-ab22-4434-8dcf-2700343d7093",
   "metadata": {},
   "outputs": [],
   "source": [
    "ad = anndata.read_h5ad(matrix_file)"
   ]
  },
  {
   "cell_type": "code",
   "execution_count": 4,
   "id": "f59d4430-84a0-4e0d-8dcc-7d7efa01d97e",
   "metadata": {},
   "outputs": [
    {
     "data": {
      "text/plain": [
       "AnnData object with n_obs × n_vars = 8856 × 18457\n",
       "    obs: 'cell_type', 'tissue', 'organ', 'disease', 'study', 'dataset', 'region', 'subregion', 'celltype_coarse', 'n_cells', 'total_counts', 'n_genes', 'size_factor', 'train_pearson', 'val_pearson', 'test_pearson'\n",
       "    var: 'chrom', 'start', 'end', 'strand', 'gene_type', 'frac_nan', 'mean_counts', 'n_tracks', 'gene_start', 'gene_end', 'gene_length', 'gene_mask_start', 'gene_mask_end', 'frac_N', 'fold', 'dataset', 'gene_id', 'pearson', 'size_factor_pearson'\n",
       "    uns: 'disease_pairs', 'log1p'\n",
       "    layers: 'counts', 'norm', 'preds', 'scaled'"
      ]
     },
     "execution_count": 4,
     "metadata": {},
     "output_type": "execute_result"
    }
   ],
   "source": [
    "ad"
   ]
  },
  {
   "cell_type": "code",
   "execution_count": 5,
   "id": "d3542462-25e0-4876-be65-e47e13e71cdc",
   "metadata": {},
   "outputs": [
    {
     "data": {
      "text/html": [
       "<div>\n",
       "<style scoped>\n",
       "    .dataframe tbody tr th:only-of-type {\n",
       "        vertical-align: middle;\n",
       "    }\n",
       "\n",
       "    .dataframe tbody tr th {\n",
       "        vertical-align: top;\n",
       "    }\n",
       "\n",
       "    .dataframe thead th {\n",
       "        text-align: right;\n",
       "    }\n",
       "</style>\n",
       "<table border=\"1\" class=\"dataframe\">\n",
       "  <thead>\n",
       "    <tr style=\"text-align: right;\">\n",
       "      <th></th>\n",
       "      <th>cell_type</th>\n",
       "      <th>tissue</th>\n",
       "      <th>organ</th>\n",
       "      <th>disease</th>\n",
       "      <th>study</th>\n",
       "      <th>dataset</th>\n",
       "      <th>region</th>\n",
       "      <th>subregion</th>\n",
       "      <th>celltype_coarse</th>\n",
       "      <th>n_cells</th>\n",
       "      <th>total_counts</th>\n",
       "      <th>n_genes</th>\n",
       "      <th>size_factor</th>\n",
       "      <th>train_pearson</th>\n",
       "      <th>val_pearson</th>\n",
       "      <th>test_pearson</th>\n",
       "    </tr>\n",
       "  </thead>\n",
       "  <tbody>\n",
       "    <tr>\n",
       "      <th>agg_0</th>\n",
       "      <td>Amygdala excitatory</td>\n",
       "      <td>Amygdala_Amygdala</td>\n",
       "      <td>CNS</td>\n",
       "      <td>healthy</td>\n",
       "      <td>jhpce#tran2021</td>\n",
       "      <td>brain_atlas</td>\n",
       "      <td>Amygdala</td>\n",
       "      <td>Amygdala</td>\n",
       "      <td>NaN</td>\n",
       "      <td>331</td>\n",
       "      <td>15928830.0</td>\n",
       "      <td>17000</td>\n",
       "      <td>41431.465186</td>\n",
       "      <td>0.942474</td>\n",
       "      <td>0.841879</td>\n",
       "      <td>0.865579</td>\n",
       "    </tr>\n",
       "    <tr>\n",
       "      <th>agg_1</th>\n",
       "      <td>Amygdala excitatory</td>\n",
       "      <td>Amygdala_Basolateral nuclear group (BLN) - lat...</td>\n",
       "      <td>CNS</td>\n",
       "      <td>healthy</td>\n",
       "      <td>SCR_016152</td>\n",
       "      <td>brain_atlas</td>\n",
       "      <td>Amygdala</td>\n",
       "      <td>Basolateral nuclear group (BLN) - lateral nucl...</td>\n",
       "      <td>NaN</td>\n",
       "      <td>11369</td>\n",
       "      <td>295213300.0</td>\n",
       "      <td>18080</td>\n",
       "      <td>40765.341481</td>\n",
       "      <td>0.943247</td>\n",
       "      <td>0.839565</td>\n",
       "      <td>0.860787</td>\n",
       "    </tr>\n",
       "    <tr>\n",
       "      <th>agg_2</th>\n",
       "      <td>Amygdala excitatory</td>\n",
       "      <td>Amygdala_Bed nucleus of stria terminalis and n...</td>\n",
       "      <td>CNS</td>\n",
       "      <td>healthy</td>\n",
       "      <td>SCR_016152</td>\n",
       "      <td>brain_atlas</td>\n",
       "      <td>Amygdala</td>\n",
       "      <td>Bed nucleus of stria terminalis and nearby - BNST</td>\n",
       "      <td>NaN</td>\n",
       "      <td>139</td>\n",
       "      <td>2593231.0</td>\n",
       "      <td>15418</td>\n",
       "      <td>42556.387020</td>\n",
       "      <td>0.952271</td>\n",
       "      <td>0.855175</td>\n",
       "      <td>0.866643</td>\n",
       "    </tr>\n",
       "    <tr>\n",
       "      <th>agg_3</th>\n",
       "      <td>Amygdala excitatory</td>\n",
       "      <td>Amygdala_Central nuclear group - CEN</td>\n",
       "      <td>CNS</td>\n",
       "      <td>healthy</td>\n",
       "      <td>SCR_016152</td>\n",
       "      <td>brain_atlas</td>\n",
       "      <td>Amygdala</td>\n",
       "      <td>Central nuclear group - CEN</td>\n",
       "      <td>NaN</td>\n",
       "      <td>3892</td>\n",
       "      <td>99463712.0</td>\n",
       "      <td>17959</td>\n",
       "      <td>42884.641430</td>\n",
       "      <td>0.959857</td>\n",
       "      <td>0.863817</td>\n",
       "      <td>0.881534</td>\n",
       "    </tr>\n",
       "    <tr>\n",
       "      <th>agg_4</th>\n",
       "      <td>Amygdala excitatory</td>\n",
       "      <td>Amygdala_Corticomedial nuclear group (CMN) - a...</td>\n",
       "      <td>CNS</td>\n",
       "      <td>healthy</td>\n",
       "      <td>SCR_016152</td>\n",
       "      <td>brain_atlas</td>\n",
       "      <td>Amygdala</td>\n",
       "      <td>Corticomedial nuclear group (CMN) - anterior c...</td>\n",
       "      <td>NaN</td>\n",
       "      <td>2945</td>\n",
       "      <td>128161939.0</td>\n",
       "      <td>17885</td>\n",
       "      <td>41816.741933</td>\n",
       "      <td>0.951541</td>\n",
       "      <td>0.855172</td>\n",
       "      <td>0.868277</td>\n",
       "    </tr>\n",
       "  </tbody>\n",
       "</table>\n",
       "</div>"
      ],
      "text/plain": [
       "                 cell_type                                             tissue  \\\n",
       "agg_0  Amygdala excitatory                                  Amygdala_Amygdala   \n",
       "agg_1  Amygdala excitatory  Amygdala_Basolateral nuclear group (BLN) - lat...   \n",
       "agg_2  Amygdala excitatory  Amygdala_Bed nucleus of stria terminalis and n...   \n",
       "agg_3  Amygdala excitatory               Amygdala_Central nuclear group - CEN   \n",
       "agg_4  Amygdala excitatory  Amygdala_Corticomedial nuclear group (CMN) - a...   \n",
       "\n",
       "      organ  disease           study      dataset    region  \\\n",
       "agg_0   CNS  healthy  jhpce#tran2021  brain_atlas  Amygdala   \n",
       "agg_1   CNS  healthy      SCR_016152  brain_atlas  Amygdala   \n",
       "agg_2   CNS  healthy      SCR_016152  brain_atlas  Amygdala   \n",
       "agg_3   CNS  healthy      SCR_016152  brain_atlas  Amygdala   \n",
       "agg_4   CNS  healthy      SCR_016152  brain_atlas  Amygdala   \n",
       "\n",
       "                                               subregion celltype_coarse  \\\n",
       "agg_0                                           Amygdala             NaN   \n",
       "agg_1  Basolateral nuclear group (BLN) - lateral nucl...             NaN   \n",
       "agg_2  Bed nucleus of stria terminalis and nearby - BNST             NaN   \n",
       "agg_3                        Central nuclear group - CEN             NaN   \n",
       "agg_4  Corticomedial nuclear group (CMN) - anterior c...             NaN   \n",
       "\n",
       "       n_cells  total_counts  n_genes   size_factor  train_pearson  \\\n",
       "agg_0      331    15928830.0    17000  41431.465186       0.942474   \n",
       "agg_1    11369   295213300.0    18080  40765.341481       0.943247   \n",
       "agg_2      139     2593231.0    15418  42556.387020       0.952271   \n",
       "agg_3     3892    99463712.0    17959  42884.641430       0.959857   \n",
       "agg_4     2945   128161939.0    17885  41816.741933       0.951541   \n",
       "\n",
       "       val_pearson  test_pearson  \n",
       "agg_0     0.841879      0.865579  \n",
       "agg_1     0.839565      0.860787  \n",
       "agg_2     0.855175      0.866643  \n",
       "agg_3     0.863817      0.881534  \n",
       "agg_4     0.855172      0.868277  "
      ]
     },
     "execution_count": 5,
     "metadata": {},
     "output_type": "execute_result"
    }
   ],
   "source": [
    "ad.obs.head()"
   ]
  },
  {
   "cell_type": "code",
   "execution_count": 6,
   "id": "8f46fee8-b542-4847-a389-6c1dba41956e",
   "metadata": {},
   "outputs": [
    {
     "data": {
      "text/html": [
       "<div>\n",
       "<style scoped>\n",
       "    .dataframe tbody tr th:only-of-type {\n",
       "        vertical-align: middle;\n",
       "    }\n",
       "\n",
       "    .dataframe tbody tr th {\n",
       "        vertical-align: top;\n",
       "    }\n",
       "\n",
       "    .dataframe thead th {\n",
       "        text-align: right;\n",
       "    }\n",
       "</style>\n",
       "<table border=\"1\" class=\"dataframe\">\n",
       "  <thead>\n",
       "    <tr style=\"text-align: right;\">\n",
       "      <th></th>\n",
       "      <th>chrom</th>\n",
       "      <th>start</th>\n",
       "      <th>end</th>\n",
       "      <th>strand</th>\n",
       "      <th>gene_type</th>\n",
       "      <th>frac_nan</th>\n",
       "      <th>mean_counts</th>\n",
       "      <th>n_tracks</th>\n",
       "      <th>gene_start</th>\n",
       "      <th>gene_end</th>\n",
       "      <th>gene_length</th>\n",
       "      <th>gene_mask_start</th>\n",
       "      <th>gene_mask_end</th>\n",
       "      <th>frac_N</th>\n",
       "      <th>fold</th>\n",
       "      <th>dataset</th>\n",
       "      <th>gene_id</th>\n",
       "      <th>pearson</th>\n",
       "      <th>size_factor_pearson</th>\n",
       "    </tr>\n",
       "  </thead>\n",
       "  <tbody>\n",
       "    <tr>\n",
       "      <th>STRADA</th>\n",
       "      <td>chr17</td>\n",
       "      <td>63381538</td>\n",
       "      <td>63905826</td>\n",
       "      <td>-</td>\n",
       "      <td>protein_coding</td>\n",
       "      <td>0.000000</td>\n",
       "      <td>2.208074</td>\n",
       "      <td>7616</td>\n",
       "      <td>63682336</td>\n",
       "      <td>63741986</td>\n",
       "      <td>59650</td>\n",
       "      <td>163840</td>\n",
       "      <td>223490</td>\n",
       "      <td>0.0</td>\n",
       "      <td>['fold1']</td>\n",
       "      <td>train</td>\n",
       "      <td>ENSG00000266173</td>\n",
       "      <td>0.492455</td>\n",
       "      <td>0.476627</td>\n",
       "    </tr>\n",
       "    <tr>\n",
       "      <th>ETV4</th>\n",
       "      <td>chr17</td>\n",
       "      <td>43219172</td>\n",
       "      <td>43743460</td>\n",
       "      <td>-</td>\n",
       "      <td>protein_coding</td>\n",
       "      <td>0.030873</td>\n",
       "      <td>0.925863</td>\n",
       "      <td>5004</td>\n",
       "      <td>43527844</td>\n",
       "      <td>43579620</td>\n",
       "      <td>51776</td>\n",
       "      <td>163840</td>\n",
       "      <td>215616</td>\n",
       "      <td>0.0</td>\n",
       "      <td>['fold1']</td>\n",
       "      <td>train</td>\n",
       "      <td>ENSG00000175832</td>\n",
       "      <td>0.737548</td>\n",
       "      <td>0.613281</td>\n",
       "    </tr>\n",
       "    <tr>\n",
       "      <th>USP25</th>\n",
       "      <td>chr21</td>\n",
       "      <td>15566185</td>\n",
       "      <td>16090473</td>\n",
       "      <td>+</td>\n",
       "      <td>protein_coding</td>\n",
       "      <td>0.000000</td>\n",
       "      <td>3.650355</td>\n",
       "      <td>8604</td>\n",
       "      <td>15730025</td>\n",
       "      <td>15880069</td>\n",
       "      <td>150044</td>\n",
       "      <td>163840</td>\n",
       "      <td>313884</td>\n",
       "      <td>0.0</td>\n",
       "      <td>['fold6']</td>\n",
       "      <td>train</td>\n",
       "      <td>ENSG00000155313</td>\n",
       "      <td>0.905298</td>\n",
       "      <td>0.784446</td>\n",
       "    </tr>\n",
       "    <tr>\n",
       "      <th>ZSWIM5</th>\n",
       "      <td>chr1</td>\n",
       "      <td>44945761</td>\n",
       "      <td>45470049</td>\n",
       "      <td>-</td>\n",
       "      <td>protein_coding</td>\n",
       "      <td>0.000620</td>\n",
       "      <td>2.190115</td>\n",
       "      <td>6123</td>\n",
       "      <td>45016399</td>\n",
       "      <td>45306209</td>\n",
       "      <td>289810</td>\n",
       "      <td>163840</td>\n",
       "      <td>453650</td>\n",
       "      <td>0.0</td>\n",
       "      <td>['fold5']</td>\n",
       "      <td>train</td>\n",
       "      <td>ENSG00000162415</td>\n",
       "      <td>0.961775</td>\n",
       "      <td>0.795131</td>\n",
       "    </tr>\n",
       "    <tr>\n",
       "      <th>C21orf58</th>\n",
       "      <td>chr21</td>\n",
       "      <td>45963427</td>\n",
       "      <td>46487715</td>\n",
       "      <td>-</td>\n",
       "      <td>protein_coding</td>\n",
       "      <td>0.000791</td>\n",
       "      <td>1.650467</td>\n",
       "      <td>7354</td>\n",
       "      <td>46300181</td>\n",
       "      <td>46323875</td>\n",
       "      <td>23694</td>\n",
       "      <td>163840</td>\n",
       "      <td>187534</td>\n",
       "      <td>0.0</td>\n",
       "      <td>['fold6']</td>\n",
       "      <td>train</td>\n",
       "      <td>ENSG00000160298</td>\n",
       "      <td>0.645260</td>\n",
       "      <td>0.412368</td>\n",
       "    </tr>\n",
       "  </tbody>\n",
       "</table>\n",
       "</div>"
      ],
      "text/plain": [
       "          chrom     start       end strand       gene_type  frac_nan  \\\n",
       "STRADA    chr17  63381538  63905826      -  protein_coding  0.000000   \n",
       "ETV4      chr17  43219172  43743460      -  protein_coding  0.030873   \n",
       "USP25     chr21  15566185  16090473      +  protein_coding  0.000000   \n",
       "ZSWIM5     chr1  44945761  45470049      -  protein_coding  0.000620   \n",
       "C21orf58  chr21  45963427  46487715      -  protein_coding  0.000791   \n",
       "\n",
       "          mean_counts  n_tracks  gene_start  gene_end  gene_length  \\\n",
       "STRADA       2.208074      7616    63682336  63741986        59650   \n",
       "ETV4         0.925863      5004    43527844  43579620        51776   \n",
       "USP25        3.650355      8604    15730025  15880069       150044   \n",
       "ZSWIM5       2.190115      6123    45016399  45306209       289810   \n",
       "C21orf58     1.650467      7354    46300181  46323875        23694   \n",
       "\n",
       "          gene_mask_start  gene_mask_end  frac_N       fold dataset  \\\n",
       "STRADA             163840         223490     0.0  ['fold1']   train   \n",
       "ETV4               163840         215616     0.0  ['fold1']   train   \n",
       "USP25              163840         313884     0.0  ['fold6']   train   \n",
       "ZSWIM5             163840         453650     0.0  ['fold5']   train   \n",
       "C21orf58           163840         187534     0.0  ['fold6']   train   \n",
       "\n",
       "                  gene_id   pearson  size_factor_pearson  \n",
       "STRADA    ENSG00000266173  0.492455             0.476627  \n",
       "ETV4      ENSG00000175832  0.737548             0.613281  \n",
       "USP25     ENSG00000155313  0.905298             0.784446  \n",
       "ZSWIM5    ENSG00000162415  0.961775             0.795131  \n",
       "C21orf58  ENSG00000160298  0.645260             0.412368  "
      ]
     },
     "execution_count": 6,
     "metadata": {},
     "output_type": "execute_result"
    }
   ],
   "source": [
    "ad.var.head()"
   ]
  },
  {
   "cell_type": "code",
   "execution_count": 7,
   "id": "bad6709b-7ec7-4385-b0d8-9b10f8f1e2f5",
   "metadata": {},
   "outputs": [
    {
     "data": {
      "text/plain": [
       "array([[0.52506679, 1.76370326, 5.79917159, 4.78301879, 2.09112987],\n",
       "       [4.07175813, 1.54301945, 5.70829132, 4.79943454, 1.53793855],\n",
       "       [4.13834698, 1.58025486, 5.33976252, 5.07680238, 1.58025486],\n",
       "       [4.02795081, 1.63160098, 5.53684653, 4.84446985, 1.5707875 ],\n",
       "       [4.05569225, 1.04978108, 5.65868493, 4.99066382, 1.53048553]])"
      ]
     },
     "execution_count": 7,
     "metadata": {},
     "output_type": "execute_result"
    }
   ],
   "source": [
    "ad.X[:5, :5]"
   ]
  },
  {
   "cell_type": "code",
   "execution_count": 8,
   "id": "6e40faa9-79ea-4358-81fa-471dd570aabb",
   "metadata": {},
   "outputs": [
    {
     "data": {
      "text/plain": [
       "array([[3.0019245, 1.7627305, 4.5927725, 5.0999455, 1.7748047],\n",
       "       [3.0033526, 1.7826542, 4.7232265, 5.5104795, 1.6668196],\n",
       "       [2.9788709, 2.0896676, 4.8655367, 5.617505 , 1.7732594],\n",
       "       [3.074754 , 2.0385346, 4.884157 , 5.273578 , 1.7600096],\n",
       "       [3.1038399, 1.9592154, 4.5908647, 5.2569623, 1.7552438]],\n",
       "      dtype=float32)"
      ]
     },
     "execution_count": 8,
     "metadata": {},
     "output_type": "execute_result"
    }
   ],
   "source": [
    "ad.layers['preds'][:5, :5]"
   ]
  },
  {
   "cell_type": "markdown",
   "id": "98788b7b-dfee-403c-a844-92a43a6d0a4d",
   "metadata": {},
   "source": [
    "To find true values and predictions for a specific gene (SPI1):"
   ]
  },
  {
   "cell_type": "code",
   "execution_count": 9,
   "id": "c31e5faf-5f44-46d6-b6cc-7a768e066976",
   "metadata": {},
   "outputs": [
    {
     "data": {
      "text/html": [
       "<div>\n",
       "<style scoped>\n",
       "    .dataframe tbody tr th:only-of-type {\n",
       "        vertical-align: middle;\n",
       "    }\n",
       "\n",
       "    .dataframe tbody tr th {\n",
       "        vertical-align: top;\n",
       "    }\n",
       "\n",
       "    .dataframe thead th {\n",
       "        text-align: right;\n",
       "    }\n",
       "</style>\n",
       "<table border=\"1\" class=\"dataframe\">\n",
       "  <thead>\n",
       "    <tr style=\"text-align: right;\">\n",
       "      <th></th>\n",
       "      <th>chrom</th>\n",
       "      <th>start</th>\n",
       "      <th>end</th>\n",
       "      <th>strand</th>\n",
       "      <th>gene_type</th>\n",
       "      <th>frac_nan</th>\n",
       "      <th>mean_counts</th>\n",
       "      <th>n_tracks</th>\n",
       "      <th>gene_start</th>\n",
       "      <th>gene_end</th>\n",
       "      <th>gene_length</th>\n",
       "      <th>gene_mask_start</th>\n",
       "      <th>gene_mask_end</th>\n",
       "      <th>frac_N</th>\n",
       "      <th>fold</th>\n",
       "      <th>dataset</th>\n",
       "      <th>gene_id</th>\n",
       "      <th>pearson</th>\n",
       "      <th>size_factor_pearson</th>\n",
       "    </tr>\n",
       "  </thead>\n",
       "  <tbody>\n",
       "    <tr>\n",
       "      <th>SPI1</th>\n",
       "      <td>chr11</td>\n",
       "      <td>47018128</td>\n",
       "      <td>47542416</td>\n",
       "      <td>-</td>\n",
       "      <td>protein_coding</td>\n",
       "      <td>0.000128</td>\n",
       "      <td>2.187062</td>\n",
       "      <td>7290</td>\n",
       "      <td>47354860</td>\n",
       "      <td>47378576</td>\n",
       "      <td>23716</td>\n",
       "      <td>163840</td>\n",
       "      <td>187556</td>\n",
       "      <td>0.0</td>\n",
       "      <td>['fold3']</td>\n",
       "      <td>test</td>\n",
       "      <td>ENSG00000066336</td>\n",
       "      <td>0.846099</td>\n",
       "      <td>-0.15956</td>\n",
       "    </tr>\n",
       "  </tbody>\n",
       "</table>\n",
       "</div>"
      ],
      "text/plain": [
       "      chrom     start       end strand       gene_type  frac_nan  mean_counts  \\\n",
       "SPI1  chr11  47018128  47542416      -  protein_coding  0.000128     2.187062   \n",
       "\n",
       "      n_tracks  gene_start  gene_end  gene_length  gene_mask_start  \\\n",
       "SPI1      7290    47354860  47378576        23716           163840   \n",
       "\n",
       "      gene_mask_end  frac_N       fold dataset          gene_id   pearson  \\\n",
       "SPI1         187556     0.0  ['fold3']    test  ENSG00000066336  0.846099   \n",
       "\n",
       "      size_factor_pearson  \n",
       "SPI1             -0.15956  "
      ]
     },
     "execution_count": 9,
     "metadata": {},
     "output_type": "execute_result"
    }
   ],
   "source": [
    "ad.var.loc[['SPI1']]"
   ]
  },
  {
   "cell_type": "code",
   "execution_count": 10,
   "id": "36a46835-9cec-4649-9a6b-3932712788ce",
   "metadata": {},
   "outputs": [
    {
     "data": {
      "text/plain": [
       "array([0.75613442, 0.46761271, 1.0743526 , ..., 1.50592079, 0.        ,\n",
       "       0.48083117])"
      ]
     },
     "execution_count": 10,
     "metadata": {},
     "output_type": "execute_result"
    }
   ],
   "source": [
    "np.array(ad[:, 'SPI1'].X).squeeze()"
   ]
  },
  {
   "cell_type": "code",
   "execution_count": 11,
   "id": "5cbb1d37-94d9-4350-bd5e-e636ae27aba6",
   "metadata": {},
   "outputs": [
    {
     "data": {
      "text/plain": [
       "array([0.2351853 , 0.20646904, 0.15287355, ..., 0.33639783, 0.1378721 ,\n",
       "       0.20061433], dtype=float32)"
      ]
     },
     "execution_count": 11,
     "metadata": {},
     "output_type": "execute_result"
    }
   ],
   "source": [
    "np.array(ad[:, 'SPI1'].layers['preds']).squeeze()"
   ]
  },
  {
   "cell_type": "markdown",
   "id": "96d1f72b-048a-421d-9d93-54a7d3371e6d",
   "metadata": {},
   "source": [
    "## How to visualize the model's predictions for a gene of interest"
   ]
  },
  {
   "cell_type": "code",
   "execution_count": 4,
   "id": "a142a72c-4854-4096-bea8-25a126f84cd6",
   "metadata": {},
   "outputs": [],
   "source": [
    "from decima.visualize import plot_gene_scatter, plot_marker_box"
   ]
  },
  {
   "cell_type": "code",
   "execution_count": 13,
   "id": "0216db80-6ba7-466f-8a91-8b3ceb43cfec",
   "metadata": {},
   "outputs": [
    {
     "data": {
      "image/png": "[encoded data removed]"
     },
     "metadata": {
      "image/png": {
       "height": 250,
       "width": 300
      }
     },
     "output_type": "display_data"
    }
   ],
   "source": [
    "plot_gene_scatter(gene=\"SPI1\", ad=ad)"
   ]
  },
  {
   "cell_type": "markdown",
   "id": "cb368bd6-b21d-4143-91e1-6fbbf0f93842",
   "metadata": {},
   "source": [
    "We can also compare the predictions in specific cell types vs. others:"
   ]
  },
  {
   "cell_type": "code",
   "execution_count": 14,
   "id": "cab396dc-c98b-4f43-9076-a08f9c3c4ead",
   "metadata": {},
   "outputs": [],
   "source": [
    "spi1_cell_types = ['classical monocyte', 'intermediate monocyte', 'non-classical monocyte', \n",
    "                 'alveolar macrophage', 'macrophage']"
   ]
  },
  {
   "cell_type": "code",
   "execution_count": 15,
   "id": "4a55f5dd-3a09-4e16-882c-6ab0819d7344",
   "metadata": {},
   "outputs": [
    {
     "data": {
      "image/png": "[encoded data removed]"
     },
     "metadata": {
      "image/png": {
       "height": 250,
       "width": 300
      }
     },
     "output_type": "display_data"
    }
   ],
   "source": [
    "marker_features = {'cell_type': spi1_cell_types}\n",
    "plot_marker_box(gene='SPI1', ad=ad, marker_features=marker_features)"
   ]
  },
  {
   "cell_type": "markdown",
   "id": "a1bd8310-99e2-4b8b-8baa-1a0e7a4aced2",
   "metadata": {},
   "source": [
    "## How to load the model "
   ]
  },
  {
   "cell_type": "code",
   "execution_count": 16,
   "id": "89c97525-981c-4b83-af66-3ac72fa954da",
   "metadata": {},
   "outputs": [
    {
     "name": "stderr",
     "output_type": "stream",
     "text": [
      "/usr/local/lib/python3.11/dist-packages/tqdm/auto.py:21: TqdmWarning: IProgress not found. Please update jupyter and ipywidgets. See https://ipywidgets.readthedocs.io/en/stable/user_install.html\n"
     ]
    }
   ],
   "source": [
    "from decima.lightning import LightningModel"
   ]
  },
  {
   "cell_type": "code",
   "execution_count": 17,
   "id": "50b3762b-0eec-489e-9e9f-5ee8b9c864f0",
   "metadata": {},
   "outputs": [
    {
     "name": "stderr",
     "output_type": "stream",
     "text": [
      "\u001b[34m\u001b[1mwandb\u001b[0m: Downloading large artifact human_state_dict_fold0:latest, 709.30MB. 1 files... \n",
      "\u001b[34m\u001b[1mwandb\u001b[0m:   1 of 1 files downloaded.  \n",
      "Done. 0:0:1.0\n"
     ]
    }
   ],
   "source": [
    "model = LightningModel.load_from_checkpoint(primary_ckpt)\n",
    "model = model.eval()"
   ]
  },
  {
   "cell_type": "markdown",
   "id": "7c906c96-4bf6-4af2-9d44-5ea64fe33c26",
   "metadata": {},
   "source": [
    "## How to get the sequence input for the gene of interest "
   ]
  },
  {
   "cell_type": "markdown",
   "id": "0dba26e3-46b1-4e2d-a890-96b02fd99ce7",
   "metadata": {},
   "source": [
    "The sequence input for each gene is stored in `h5_file`."
   ]
  },
  {
   "cell_type": "code",
   "execution_count": 18,
   "id": "2128e4e1-ca04-4615-930b-cb442d414dca",
   "metadata": {},
   "outputs": [],
   "source": [
    "from decima.read_hdf5 import extract_gene_data"
   ]
  },
  {
   "cell_type": "code",
   "execution_count": 19,
   "id": "9c1fcf51-7504-48fc-8ebe-a0d30751797a",
   "metadata": {},
   "outputs": [],
   "source": [
    "spi1_input = extract_gene_data(h5_file, \"SPI1\")"
   ]
  },
  {
   "cell_type": "code",
   "execution_count": 20,
   "id": "c946756c-3f4e-410d-b3ba-31c28a5bac79",
   "metadata": {},
   "outputs": [
    {
     "data": {
      "text/plain": [
       "torch.Size([5, 524288])"
      ]
     },
     "execution_count": 20,
     "metadata": {},
     "output_type": "execute_result"
    }
   ],
   "source": [
    "spi1_input.shape"
   ]
  },
  {
   "cell_type": "code",
   "execution_count": 21,
   "id": "5ac2279b-8029-4789-8bcc-c84911577e01",
   "metadata": {},
   "outputs": [
    {
     "data": {
      "text/plain": [
       "tensor([[0., 0., 0., 0., 1., 0., 0., 0., 0., 0.],\n",
       "        [0., 0., 1., 1., 0., 1., 0., 0., 0., 0.],\n",
       "        [0., 1., 0., 0., 0., 0., 0., 0., 0., 0.],\n",
       "        [1., 0., 0., 0., 0., 0., 1., 1., 1., 1.],\n",
       "        [0., 0., 0., 0., 0., 0., 0., 0., 0., 0.]])"
      ]
     },
     "execution_count": 21,
     "metadata": {},
     "output_type": "execute_result"
    }
   ],
   "source": [
    "spi1_input[:, :10]"
   ]
  },
  {
   "cell_type": "markdown",
   "id": "c56c522a-4c03-41c8-bc46-ac41e77e181a",
   "metadata": {},
   "source": [
    "This input corresponds to the sequence between the start and end of SPI1 in `ad.var`, shown below. Note that for negative strand genes such as SPI1, the input is the reverse complemented sequence.\n",
    "The first 4 channels contain the one-hot encoded sequence. The 5th channel is the 'gene mask' that indicates the boundaries of the gene. It is 0 for positions outside the gene and 1 for positions inside. `gene_mask_start` and `gene_mask_end` contain the positions of the gene boundaries on the input."
   ]
  },
  {
   "cell_type": "code",
   "execution_count": 22,
   "id": "24062823-a13e-45ca-9613-cd32bd3aadda",
   "metadata": {},
   "outputs": [
    {
     "data": {
      "text/html": [
       "<div>\n",
       "<style scoped>\n",
       "    .dataframe tbody tr th:only-of-type {\n",
       "        vertical-align: middle;\n",
       "    }\n",
       "\n",
       "    .dataframe tbody tr th {\n",
       "        vertical-align: top;\n",
       "    }\n",
       "\n",
       "    .dataframe thead th {\n",
       "        text-align: right;\n",
       "    }\n",
       "</style>\n",
       "<table border=\"1\" class=\"dataframe\">\n",
       "  <thead>\n",
       "    <tr style=\"text-align: right;\">\n",
       "      <th></th>\n",
       "      <th>chrom</th>\n",
       "      <th>start</th>\n",
       "      <th>end</th>\n",
       "      <th>strand</th>\n",
       "      <th>gene_type</th>\n",
       "      <th>frac_nan</th>\n",
       "      <th>mean_counts</th>\n",
       "      <th>n_tracks</th>\n",
       "      <th>gene_start</th>\n",
       "      <th>gene_end</th>\n",
       "      <th>gene_length</th>\n",
       "      <th>gene_mask_start</th>\n",
       "      <th>gene_mask_end</th>\n",
       "      <th>frac_N</th>\n",
       "      <th>fold</th>\n",
       "      <th>dataset</th>\n",
       "      <th>gene_id</th>\n",
       "      <th>pearson</th>\n",
       "      <th>size_factor_pearson</th>\n",
       "    </tr>\n",
       "  </thead>\n",
       "  <tbody>\n",
       "    <tr>\n",
       "      <th>SPI1</th>\n",
       "      <td>chr11</td>\n",
       "      <td>47018128</td>\n",
       "      <td>47542416</td>\n",
       "      <td>-</td>\n",
       "      <td>protein_coding</td>\n",
       "      <td>0.000128</td>\n",
       "      <td>2.187062</td>\n",
       "      <td>7290</td>\n",
       "      <td>47354860</td>\n",
       "      <td>47378576</td>\n",
       "      <td>23716</td>\n",
       "      <td>163840</td>\n",
       "      <td>187556</td>\n",
       "      <td>0.0</td>\n",
       "      <td>['fold3']</td>\n",
       "      <td>test</td>\n",
       "      <td>ENSG00000066336</td>\n",
       "      <td>0.846099</td>\n",
       "      <td>-0.15956</td>\n",
       "    </tr>\n",
       "  </tbody>\n",
       "</table>\n",
       "</div>"
      ],
      "text/plain": [
       "      chrom     start       end strand       gene_type  frac_nan  mean_counts  \\\n",
       "SPI1  chr11  47018128  47542416      -  protein_coding  0.000128     2.187062   \n",
       "\n",
       "      n_tracks  gene_start  gene_end  gene_length  gene_mask_start  \\\n",
       "SPI1      7290    47354860  47378576        23716           163840   \n",
       "\n",
       "      gene_mask_end  frac_N       fold dataset          gene_id   pearson  \\\n",
       "SPI1         187556     0.0  ['fold3']    test  ENSG00000066336  0.846099   \n",
       "\n",
       "      size_factor_pearson  \n",
       "SPI1             -0.15956  "
      ]
     },
     "execution_count": 22,
     "metadata": {},
     "output_type": "execute_result"
    }
   ],
   "source": [
    "ad.var.loc[['SPI1']]"
   ]
  },
  {
   "cell_type": "markdown",
   "id": "438e3541-85d4-4899-9cdb-0b608df1463a",
   "metadata": {},
   "source": [
    "We can check that both the sequence and the gene mask are correct:"
   ]
  },
  {
   "cell_type": "code",
   "execution_count": 23,
   "id": "f5c4c327-24b1-4438-8719-439b319c9714",
   "metadata": {},
   "outputs": [],
   "source": [
    "from grelu.sequence.format import convert_input_type"
   ]
  },
  {
   "cell_type": "code",
   "execution_count": 24,
   "id": "79b01a3a-f3e1-4ddd-a4f2-be6559d370a7",
   "metadata": {},
   "outputs": [
    {
     "data": {
      "text/plain": [
       "tensor(True)"
      ]
     },
     "execution_count": 24,
     "metadata": {},
     "output_type": "execute_result"
    }
   ],
   "source": [
    "torch.all(spi1_input[:4] == convert_input_type(ad.var.loc[['SPI1']], \"one_hot\", genome=\"hg38\")[0])"
   ]
  },
  {
   "cell_type": "code",
   "execution_count": 25,
   "id": "80be6c6d-3394-47c5-a185-c265d2eaaf2a",
   "metadata": {},
   "outputs": [
    {
     "data": {
      "text/plain": [
       "(array([163840, 163841, 163842, ..., 187553, 187554, 187555]),)"
      ]
     },
     "execution_count": 25,
     "metadata": {},
     "output_type": "execute_result"
    }
   ],
   "source": [
    "np.where(spi1_input[4] == 1)"
   ]
  },
  {
   "cell_type": "markdown",
   "id": "73b20124-c16b-4524-8074-851cb53c3b87",
   "metadata": {},
   "source": [
    "## How to interpret the model's predictions"
   ]
  },
  {
   "cell_type": "markdown",
   "id": "39cb5bdb-7688-4bca-b964-94afb030dc83",
   "metadata": {},
   "source": [
    "To interpret the model's predictions with respect to cell type specificity, we define a set of 'on_tasks' and 'off_tasks' (background tasks)."
   ]
  },
  {
   "cell_type": "code",
   "execution_count": 57,
   "id": "15090f59-6809-4a03-a11d-b6e1b218c210",
   "metadata": {},
   "outputs": [
    {
     "data": {
      "text/plain": [
       "(640, 750)"
      ]
     },
     "execution_count": 57,
     "metadata": {},
     "output_type": "execute_result"
    }
   ],
   "source": [
    "on_tasks = ad.obs.index[ad.obs.cell_type.isin(spi1_cell_types)].tolist()\n",
    "off_tasks = ad.obs.index[(~ad.obs.cell_type.isin(spi1_cell_types)) & (ad.obs.organ==\"blood\")].tolist()\n",
    "\n",
    "len(on_tasks), len(off_tasks)"
   ]
  },
  {
   "cell_type": "code",
   "execution_count": 27,
   "id": "b6119ced-8bc8-45b6-9ace-2e1e6105eb4b",
   "metadata": {},
   "outputs": [
    {
     "name": "stderr",
     "output_type": "stream",
     "text": [
      "/usr/local/lib/python3.11/dist-packages/captum/_utils/gradient.py:57: UserWarning: Input Tensor 0 did not already require gradients, required_grads has been set automatically.\n"
     ]
    }
   ],
   "source": [
    "import decima.interpret\n",
    "from decima.interpret import attributions, find_attr_peaks\n",
    "\n",
    "seq, tss_pos, attr =  decima.interpret.attributions(\n",
    "    gene=\"SPI1\", h5_file=h5_file, model=model, device=0, \n",
    "    tasks=on_tasks,\n",
    "    off_tasks=off_tasks,\n",
    "    transform=\"specificity\")"
   ]
  },
  {
   "cell_type": "markdown",
   "id": "f512b548-684b-4412-91af-79543bbc6a8e",
   "metadata": {},
   "source": [
    "Note that if we only want to interpret the model's predictions for some set of tasks without caring about specificity, we should use `transform=\"aggregate\" and not define `off_tasks`."
   ]
  },
  {
   "cell_type": "code",
   "execution_count": 28,
   "id": "f821826c-2fd8-4679-8c70-6c2a87f8e20d",
   "metadata": {},
   "outputs": [
    {
     "data": {
      "text/plain": [
       "(4, 524288)"
      ]
     },
     "execution_count": 28,
     "metadata": {},
     "output_type": "execute_result"
    }
   ],
   "source": [
    "attr.shape"
   ]
  },
  {
   "cell_type": "markdown",
   "id": "5acb1dde-b0f3-4950-8ca4-aa641c74b129",
   "metadata": {},
   "source": [
    "In addition to the attributions, this function also returns the position of the TSS on the input. This is normally 163840 but this is not the case for all genes."
   ]
  },
  {
   "cell_type": "code",
   "execution_count": 29,
   "id": "9b7ef36e-897b-4cec-b276-b7860c8d6e9e",
   "metadata": {},
   "outputs": [
    {
     "data": {
      "text/plain": [
       "163840"
      ]
     },
     "execution_count": 29,
     "metadata": {},
     "output_type": "execute_result"
    }
   ],
   "source": [
    "tss_pos"
   ]
  },
  {
   "cell_type": "markdown",
   "id": "69917015-a3e7-4222-bb3e-ed3b7f5f8ea8",
   "metadata": {},
   "source": [
    "First, we can visualize the importance across the entire 500 kb interval:"
   ]
  },
  {
   "cell_type": "code",
   "execution_count": 30,
   "id": "a186b895-3016-4036-93dd-0ec2fb884a35",
   "metadata": {},
   "outputs": [],
   "source": [
    "from decima.visualize import plot_attribution_peaks"
   ]
  },
  {
   "cell_type": "code",
   "execution_count": 31,
   "id": "98f5658c-beff-4c49-8e07-780c73c0ef54",
   "metadata": {},
   "outputs": [
    {
     "data": {
      "image/png": "[encoded data removed]"
     },
     "metadata": {
      "image/png": {
       "height": 200,
       "width": 600
      }
     },
     "output_type": "display_data"
    }
   ],
   "source": [
    "plot_attribution_peaks(attr, tss_pos)"
   ]
  },
  {
   "cell_type": "markdown",
   "id": "876c9880-a451-44cc-a720-a89faf835bda",
   "metadata": {},
   "source": [
    "We can also identify the peaks or regions of high importance:"
   ]
  },
  {
   "cell_type": "code",
   "execution_count": 32,
   "id": "8707e643-043d-427f-a7ed-724e7e82c274",
   "metadata": {},
   "outputs": [
    {
     "data": {
      "text/html": [
       "<div>\n",
       "<style scoped>\n",
       "    .dataframe tbody tr th:only-of-type {\n",
       "        vertical-align: middle;\n",
       "    }\n",
       "\n",
       "    .dataframe tbody tr th {\n",
       "        vertical-align: top;\n",
       "    }\n",
       "\n",
       "    .dataframe thead th {\n",
       "        text-align: right;\n",
       "    }\n",
       "</style>\n",
       "<table border=\"1\" class=\"dataframe\">\n",
       "  <thead>\n",
       "    <tr style=\"text-align: right;\">\n",
       "      <th></th>\n",
       "      <th>peak</th>\n",
       "      <th>height</th>\n",
       "      <th>from_tss</th>\n",
       "    </tr>\n",
       "  </thead>\n",
       "  <tbody>\n",
       "    <tr>\n",
       "      <th>0</th>\n",
       "      <td>163795</td>\n",
       "      <td>1.822965</td>\n",
       "      <td>-45</td>\n",
       "    </tr>\n",
       "    <tr>\n",
       "      <th>1</th>\n",
       "      <td>163878</td>\n",
       "      <td>1.187032</td>\n",
       "      <td>38</td>\n",
       "    </tr>\n",
       "    <tr>\n",
       "      <th>2</th>\n",
       "      <td>163771</td>\n",
       "      <td>0.964868</td>\n",
       "      <td>-69</td>\n",
       "    </tr>\n",
       "    <tr>\n",
       "      <th>3</th>\n",
       "      <td>163785</td>\n",
       "      <td>0.885268</td>\n",
       "      <td>-55</td>\n",
       "    </tr>\n",
       "    <tr>\n",
       "      <th>4</th>\n",
       "      <td>163810</td>\n",
       "      <td>0.800166</td>\n",
       "      <td>-30</td>\n",
       "    </tr>\n",
       "    <tr>\n",
       "      <th>5</th>\n",
       "      <td>163886</td>\n",
       "      <td>0.722988</td>\n",
       "      <td>46</td>\n",
       "    </tr>\n",
       "    <tr>\n",
       "      <th>6</th>\n",
       "      <td>163870</td>\n",
       "      <td>0.691092</td>\n",
       "      <td>30</td>\n",
       "    </tr>\n",
       "    <tr>\n",
       "      <th>7</th>\n",
       "      <td>163898</td>\n",
       "      <td>0.611349</td>\n",
       "      <td>58</td>\n",
       "    </tr>\n",
       "    <tr>\n",
       "      <th>8</th>\n",
       "      <td>163849</td>\n",
       "      <td>0.599709</td>\n",
       "      <td>9</td>\n",
       "    </tr>\n",
       "    <tr>\n",
       "      <th>9</th>\n",
       "      <td>164109</td>\n",
       "      <td>0.594931</td>\n",
       "      <td>269</td>\n",
       "    </tr>\n",
       "  </tbody>\n",
       "</table>\n",
       "</div>"
      ],
      "text/plain": [
       "     peak    height  from_tss\n",
       "0  163795  1.822965       -45\n",
       "1  163878  1.187032        38\n",
       "2  163771  0.964868       -69\n",
       "3  163785  0.885268       -55\n",
       "4  163810  0.800166       -30\n",
       "5  163886  0.722988        46\n",
       "6  163870  0.691092        30\n",
       "7  163898  0.611349        58\n",
       "8  163849  0.599709         9\n",
       "9  164109  0.594931       269"
      ]
     },
     "execution_count": 32,
     "metadata": {},
     "output_type": "execute_result"
    }
   ],
   "source": [
    "peaks = find_attr_peaks(attr, tss_pos=tss_pos, n=10, min_dist=6)\n",
    "peaks"
   ]
  },
  {
   "cell_type": "markdown",
   "id": "b4e840cb-434b-4fde-9a60-6412b8e2cd5f",
   "metadata": {},
   "source": [
    "We will visualize the attributions close to the TSS (which contains the top two peaks:"
   ]
  },
  {
   "cell_type": "code",
   "execution_count": 33,
   "id": "cc63285e-09cb-45f7-84d8-afdacd43b7fc",
   "metadata": {},
   "outputs": [],
   "source": [
    "from grelu.visualize import plot_attributions"
   ]
  },
  {
   "cell_type": "code",
   "execution_count": 34,
   "id": "31564c4a-b82f-417c-aeab-baa826d080f0",
   "metadata": {},
   "outputs": [
    {
     "data": {
      "text/plain": [
       "<logomaker.src.Logo.Logo at 0x7f0fc8bbb590>"
      ]
     },
     "execution_count": 34,
     "metadata": {},
     "output_type": "execute_result"
    },
    {
     "data": {
      "image/png": "[encoded data removed]",
      "text/plain": [
       "<Figure size 1000x200 with 1 Axes>"
      ]
     },
     "metadata": {},
     "output_type": "display_data"
    }
   ],
   "source": [
    "plot_attributions(attr[:, tss_pos-50:tss_pos+50], figsize=(10, 2))"
   ]
  },
  {
   "cell_type": "markdown",
   "id": "0c730834-b243-43aa-a291-d429583ade17",
   "metadata": {},
   "source": [
    "We can also match these top 2 peaks to motifs:"
   ]
  },
  {
   "cell_type": "code",
   "execution_count": 35,
   "id": "bbd881db-8636-44f4-a716-d44e8495ede2",
   "metadata": {},
   "outputs": [],
   "source": [
    "from decima.interpret import motifs_to_df, scan_attributions"
   ]
  },
  {
   "cell_type": "code",
   "execution_count": 36,
   "id": "2b2f2ec5-5cc4-416a-95e8-8c2594c7dd7d",
   "metadata": {},
   "outputs": [
    {
     "name": "stdout",
     "output_type": "stream",
     "text": [
      "Read 1956 motifs from file.\n"
     ]
    }
   ],
   "source": [
    "motifs = motifs_to_df('jaspar')"
   ]
  },
  {
   "cell_type": "code",
   "execution_count": 37,
   "id": "96b4773f-59ea-4b7c-880f-4e5b8691949c",
   "metadata": {},
   "outputs": [
    {
     "data": {
      "text/html": [
       "<div>\n",
       "<style scoped>\n",
       "    .dataframe tbody tr th:only-of-type {\n",
       "        vertical-align: middle;\n",
       "    }\n",
       "\n",
       "    .dataframe tbody tr th {\n",
       "        vertical-align: top;\n",
       "    }\n",
       "\n",
       "    .dataframe thead th {\n",
       "        text-align: right;\n",
       "    }\n",
       "</style>\n",
       "<table border=\"1\" class=\"dataframe\">\n",
       "  <thead>\n",
       "    <tr style=\"text-align: right;\">\n",
       "      <th></th>\n",
       "      <th>peak</th>\n",
       "      <th>motif</th>\n",
       "      <th>strand</th>\n",
       "      <th>score</th>\n",
       "      <th>height</th>\n",
       "      <th>from_tss</th>\n",
       "    </tr>\n",
       "  </thead>\n",
       "  <tbody>\n",
       "    <tr>\n",
       "      <th>3163</th>\n",
       "      <td>163795</td>\n",
       "      <td>CEBPB</td>\n",
       "      <td>-</td>\n",
       "      <td>7.270846</td>\n",
       "      <td>1.822965</td>\n",
       "      <td>-45</td>\n",
       "    </tr>\n",
       "    <tr>\n",
       "      <th>3267</th>\n",
       "      <td>163795</td>\n",
       "      <td>CEBPE</td>\n",
       "      <td>-</td>\n",
       "      <td>7.237131</td>\n",
       "      <td>1.822965</td>\n",
       "      <td>-45</td>\n",
       "    </tr>\n",
       "    <tr>\n",
       "      <th>1163</th>\n",
       "      <td>163795</td>\n",
       "      <td>CEBPG</td>\n",
       "      <td>-</td>\n",
       "      <td>6.641545</td>\n",
       "      <td>1.822965</td>\n",
       "      <td>-45</td>\n",
       "    </tr>\n",
       "    <tr>\n",
       "      <th>6617</th>\n",
       "      <td>163878</td>\n",
       "      <td>Spi1</td>\n",
       "      <td>-</td>\n",
       "      <td>4.874591</td>\n",
       "      <td>1.187032</td>\n",
       "      <td>38</td>\n",
       "    </tr>\n",
       "    <tr>\n",
       "      <th>6165</th>\n",
       "      <td>163878</td>\n",
       "      <td>SPIB</td>\n",
       "      <td>-</td>\n",
       "      <td>4.614371</td>\n",
       "      <td>1.187032</td>\n",
       "      <td>38</td>\n",
       "    </tr>\n",
       "    <tr>\n",
       "      <th>4415</th>\n",
       "      <td>163878</td>\n",
       "      <td>SPIC</td>\n",
       "      <td>-</td>\n",
       "      <td>4.396080</td>\n",
       "      <td>1.187032</td>\n",
       "      <td>38</td>\n",
       "    </tr>\n",
       "  </tbody>\n",
       "</table>\n",
       "</div>"
      ],
      "text/plain": [
       "        peak  motif strand     score    height  from_tss\n",
       "3163  163795  CEBPB      -  7.270846  1.822965       -45\n",
       "3267  163795  CEBPE      -  7.237131  1.822965       -45\n",
       "1163  163795  CEBPG      -  6.641545  1.822965       -45\n",
       "6617  163878   Spi1      -  4.874591  1.187032        38\n",
       "6165  163878   SPIB      -  4.614371  1.187032        38\n",
       "4415  163878   SPIC      -  4.396080  1.187032        38"
      ]
     },
     "execution_count": 37,
     "metadata": {},
     "output_type": "execute_result"
    }
   ],
   "source": [
    "results = scan_attributions(attr, motifs, peaks.iloc[:2], window=18)\n",
    "results.sort_values('score', ascending=False).groupby('peak').head(3).sort_values('height', ascending=False)"
   ]
  },
  {
   "cell_type": "markdown",
   "id": "ef398536-155c-495b-9916-32d0bc609505",
   "metadata": {},
   "source": [
    "## How to predict variant impact"
   ]
  },
  {
   "cell_type": "markdown",
   "id": "f536ccdb-55b8-4385-a1ff-4c3aeb2e5e2a",
   "metadata": {},
   "source": [
    "To predict variant impact, Decima requires a dataframe containing variant columns (chrom, pos, ref, alt), as well as the gene name. Optionally, the cell type of interest can also be included."
   ]
  },
  {
   "cell_type": "markdown",
   "id": "8716bca5-835d-46a4-ae36-db9771c73883",
   "metadata": {},
   "source": [
    "We will use a few fine-mapped eQTLs in this example."
   ]
  },
  {
   "cell_type": "code",
   "execution_count": 38,
   "id": "3ac3cab0-563e-4b2d-ae45-d70329d8dce5",
   "metadata": {},
   "outputs": [],
   "source": [
    "from decima.resources.eqtl import load_susie, filter_susie"
   ]
  },
  {
   "cell_type": "code",
   "execution_count": 39,
   "id": "fb09973e-8094-4649-a20f-b75b6a62428e",
   "metadata": {},
   "outputs": [
    {
     "name": "stderr",
     "output_type": "stream",
     "text": [
      "/code/decima/tutorials/../src/decima/resources/eqtl.py:57: SettingWithCopyWarning: \n",
      "A value is trying to be set on a copy of a slice from a DataFrame.\n",
      "Try using .loc[row_indexer,col_indexer] = value instead\n",
      "\n",
      "See the caveats in the documentation: https://pandas.pydata.org/pandas-docs/stable/user_guide/indexing.html#returning-a-view-versus-a-copy\n"
     ]
    },
    {
     "name": "stdout",
     "output_type": "stream",
     "text": [
      "Initial number of variants: 874936\n",
      "Final number of variants: 667625\n",
      "Keeping 667625 intervals\n",
      "Keeping 653450 intervals\n"
     ]
    }
   ],
   "source": [
    "variant_df = load_susie(susie_dir='/gstore/data/resbioai/grelu/decima/onek1k/susie/QTS000038')\n",
    "variant_df = filter_susie(variant_df, ad)"
   ]
  },
  {
   "cell_type": "code",
   "execution_count": 40,
   "id": "f322c7f9-3f0d-457c-b646-b5eb9ce3d0e5",
   "metadata": {},
   "outputs": [
    {
     "data": {
      "text/html": [
       "<div>\n",
       "<style scoped>\n",
       "    .dataframe tbody tr th:only-of-type {\n",
       "        vertical-align: middle;\n",
       "    }\n",
       "\n",
       "    .dataframe tbody tr th {\n",
       "        vertical-align: top;\n",
       "    }\n",
       "\n",
       "    .dataframe thead th {\n",
       "        text-align: right;\n",
       "    }\n",
       "</style>\n",
       "<table border=\"1\" class=\"dataframe\">\n",
       "  <thead>\n",
       "    <tr style=\"text-align: right;\">\n",
       "      <th></th>\n",
       "      <th>chrom</th>\n",
       "      <th>pos</th>\n",
       "      <th>ref</th>\n",
       "      <th>alt</th>\n",
       "      <th>cell_type</th>\n",
       "      <th>gene</th>\n",
       "      <th>gene_id</th>\n",
       "      <th>rsid</th>\n",
       "      <th>region</th>\n",
       "      <th>pip</th>\n",
       "      <th>pvalue</th>\n",
       "      <th>beta</th>\n",
       "    </tr>\n",
       "  </thead>\n",
       "  <tbody>\n",
       "    <tr>\n",
       "      <th>0</th>\n",
       "      <td>chr1</td>\n",
       "      <td>1000018</td>\n",
       "      <td>G</td>\n",
       "      <td>A</td>\n",
       "      <td>CD8-positive, alpha-beta T cell</td>\n",
       "      <td>ISG15</td>\n",
       "      <td>ENSG00000187608</td>\n",
       "      <td>rs146254088</td>\n",
       "      <td>chr1:1138-2001138</td>\n",
       "      <td>0.117562</td>\n",
       "      <td>4.389340e-07</td>\n",
       "      <td>-0.725016</td>\n",
       "    </tr>\n",
       "    <tr>\n",
       "      <th>1</th>\n",
       "      <td>chr1</td>\n",
       "      <td>1002308</td>\n",
       "      <td>T</td>\n",
       "      <td>C</td>\n",
       "      <td>CD8-positive, alpha-beta T cell</td>\n",
       "      <td>ISG15</td>\n",
       "      <td>ENSG00000187608</td>\n",
       "      <td>rs2489000</td>\n",
       "      <td>chr1:1138-2001138</td>\n",
       "      <td>0.048946</td>\n",
       "      <td>1.113460e-06</td>\n",
       "      <td>0.651041</td>\n",
       "    </tr>\n",
       "    <tr>\n",
       "      <th>2</th>\n",
       "      <td>chr1</td>\n",
       "      <td>109727471</td>\n",
       "      <td>A</td>\n",
       "      <td>C</td>\n",
       "      <td>CD8-positive, alpha-beta T cell</td>\n",
       "      <td>GSTM3</td>\n",
       "      <td>ENSG00000134202</td>\n",
       "      <td>rs11101994</td>\n",
       "      <td>chr1:108741038-110741038</td>\n",
       "      <td>0.186748</td>\n",
       "      <td>7.235260e-32</td>\n",
       "      <td>0.490154</td>\n",
       "    </tr>\n",
       "    <tr>\n",
       "      <th>3</th>\n",
       "      <td>chr1</td>\n",
       "      <td>109728286</td>\n",
       "      <td>T</td>\n",
       "      <td>G</td>\n",
       "      <td>CD8-positive, alpha-beta T cell</td>\n",
       "      <td>GSTM3</td>\n",
       "      <td>ENSG00000134202</td>\n",
       "      <td>rs4540683</td>\n",
       "      <td>chr1:108741038-110741038</td>\n",
       "      <td>0.185188</td>\n",
       "      <td>7.290630e-32</td>\n",
       "      <td>0.489905</td>\n",
       "    </tr>\n",
       "    <tr>\n",
       "      <th>4</th>\n",
       "      <td>chr1</td>\n",
       "      <td>109728807</td>\n",
       "      <td>T</td>\n",
       "      <td>G</td>\n",
       "      <td>CD8-positive, alpha-beta T cell</td>\n",
       "      <td>GSTM3</td>\n",
       "      <td>ENSG00000134202</td>\n",
       "      <td>rs4970775</td>\n",
       "      <td>chr1:108741038-110741038</td>\n",
       "      <td>0.063999</td>\n",
       "      <td>2.111820e-31</td>\n",
       "      <td>0.488325</td>\n",
       "    </tr>\n",
       "  </tbody>\n",
       "</table>\n",
       "</div>"
      ],
      "text/plain": [
       "  chrom        pos ref alt                        cell_type   gene  \\\n",
       "0  chr1    1000018   G   A  CD8-positive, alpha-beta T cell  ISG15   \n",
       "1  chr1    1002308   T   C  CD8-positive, alpha-beta T cell  ISG15   \n",
       "2  chr1  109727471   A   C  CD8-positive, alpha-beta T cell  GSTM3   \n",
       "3  chr1  109728286   T   G  CD8-positive, alpha-beta T cell  GSTM3   \n",
       "4  chr1  109728807   T   G  CD8-positive, alpha-beta T cell  GSTM3   \n",
       "\n",
       "           gene_id         rsid                    region       pip  \\\n",
       "0  ENSG00000187608  rs146254088         chr1:1138-2001138  0.117562   \n",
       "1  ENSG00000187608    rs2489000         chr1:1138-2001138  0.048946   \n",
       "2  ENSG00000134202   rs11101994  chr1:108741038-110741038  0.186748   \n",
       "3  ENSG00000134202    rs4540683  chr1:108741038-110741038  0.185188   \n",
       "4  ENSG00000134202    rs4970775  chr1:108741038-110741038  0.063999   \n",
       "\n",
       "         pvalue      beta  \n",
       "0  4.389340e-07 -0.725016  \n",
       "1  1.113460e-06  0.651041  \n",
       "2  7.235260e-32  0.490154  \n",
       "3  7.290630e-32  0.489905  \n",
       "4  2.111820e-31  0.488325  "
      ]
     },
     "execution_count": 40,
     "metadata": {},
     "output_type": "execute_result"
    }
   ],
   "source": [
    "variant_df = variant_df.head()\n",
    "variant_df"
   ]
  },
  {
   "cell_type": "markdown",
   "id": "237110c0-5e6f-4ebf-bdb0-a67ec479f230",
   "metadata": {},
   "source": [
    "We first need to ensure that these variants are close enough to a gene."
   ]
  },
  {
   "cell_type": "code",
   "execution_count": 41,
   "id": "ba8ee60e-913e-491e-81bc-11440e91ef47",
   "metadata": {},
   "outputs": [],
   "source": [
    "from decima.variant import process_variants"
   ]
  },
  {
   "cell_type": "code",
   "execution_count": 42,
   "id": "b468ccba-1018-4e5d-acd3-f74e59add0d0",
   "metadata": {},
   "outputs": [
    {
     "name": "stdout",
     "output_type": "stream",
     "text": [
      "dropped 0 variants because the gene was not found in ad.var\n",
      "dropped 0 variants because the variant did not fit in the interval\n"
     ]
    },
    {
     "data": {
      "text/html": [
       "<div>\n",
       "<style scoped>\n",
       "    .dataframe tbody tr th:only-of-type {\n",
       "        vertical-align: middle;\n",
       "    }\n",
       "\n",
       "    .dataframe tbody tr th {\n",
       "        vertical-align: top;\n",
       "    }\n",
       "\n",
       "    .dataframe thead th {\n",
       "        text-align: right;\n",
       "    }\n",
       "</style>\n",
       "<table border=\"1\" class=\"dataframe\">\n",
       "  <thead>\n",
       "    <tr style=\"text-align: right;\">\n",
       "      <th></th>\n",
       "      <th>chrom</th>\n",
       "      <th>pos</th>\n",
       "      <th>ref</th>\n",
       "      <th>alt</th>\n",
       "      <th>cell_type</th>\n",
       "      <th>gene</th>\n",
       "      <th>gene_id</th>\n",
       "      <th>rsid</th>\n",
       "      <th>region</th>\n",
       "      <th>pip</th>\n",
       "      <th>pvalue</th>\n",
       "      <th>beta</th>\n",
       "      <th>start</th>\n",
       "      <th>end</th>\n",
       "      <th>strand</th>\n",
       "      <th>gene_mask_start</th>\n",
       "      <th>rel_pos</th>\n",
       "      <th>ref_tx</th>\n",
       "      <th>alt_tx</th>\n",
       "      <th>tss_dist</th>\n",
       "    </tr>\n",
       "  </thead>\n",
       "  <tbody>\n",
       "    <tr>\n",
       "      <th>0</th>\n",
       "      <td>chr1</td>\n",
       "      <td>1000018</td>\n",
       "      <td>G</td>\n",
       "      <td>A</td>\n",
       "      <td>CD8-positive, alpha-beta T cell</td>\n",
       "      <td>ISG15</td>\n",
       "      <td>ENSG00000187608</td>\n",
       "      <td>rs146254088</td>\n",
       "      <td>chr1:1138-2001138</td>\n",
       "      <td>0.117562</td>\n",
       "      <td>4.389340e-07</td>\n",
       "      <td>-0.725016</td>\n",
       "      <td>837298</td>\n",
       "      <td>1361586</td>\n",
       "      <td>+</td>\n",
       "      <td>163840</td>\n",
       "      <td>162720</td>\n",
       "      <td>G</td>\n",
       "      <td>A</td>\n",
       "      <td>-1120</td>\n",
       "    </tr>\n",
       "    <tr>\n",
       "      <th>1</th>\n",
       "      <td>chr1</td>\n",
       "      <td>1002308</td>\n",
       "      <td>T</td>\n",
       "      <td>C</td>\n",
       "      <td>CD8-positive, alpha-beta T cell</td>\n",
       "      <td>ISG15</td>\n",
       "      <td>ENSG00000187608</td>\n",
       "      <td>rs2489000</td>\n",
       "      <td>chr1:1138-2001138</td>\n",
       "      <td>0.048946</td>\n",
       "      <td>1.113460e-06</td>\n",
       "      <td>0.651041</td>\n",
       "      <td>837298</td>\n",
       "      <td>1361586</td>\n",
       "      <td>+</td>\n",
       "      <td>163840</td>\n",
       "      <td>165010</td>\n",
       "      <td>T</td>\n",
       "      <td>C</td>\n",
       "      <td>1170</td>\n",
       "    </tr>\n",
       "    <tr>\n",
       "      <th>2</th>\n",
       "      <td>chr1</td>\n",
       "      <td>109727471</td>\n",
       "      <td>A</td>\n",
       "      <td>C</td>\n",
       "      <td>CD8-positive, alpha-beta T cell</td>\n",
       "      <td>GSTM3</td>\n",
       "      <td>ENSG00000134202</td>\n",
       "      <td>rs11101994</td>\n",
       "      <td>chr1:108741038-110741038</td>\n",
       "      <td>0.186748</td>\n",
       "      <td>7.235260e-32</td>\n",
       "      <td>0.490154</td>\n",
       "      <td>109380590</td>\n",
       "      <td>109904878</td>\n",
       "      <td>-</td>\n",
       "      <td>163840</td>\n",
       "      <td>177407</td>\n",
       "      <td>T</td>\n",
       "      <td>G</td>\n",
       "      <td>13567</td>\n",
       "    </tr>\n",
       "    <tr>\n",
       "      <th>3</th>\n",
       "      <td>chr1</td>\n",
       "      <td>109728286</td>\n",
       "      <td>T</td>\n",
       "      <td>G</td>\n",
       "      <td>CD8-positive, alpha-beta T cell</td>\n",
       "      <td>GSTM3</td>\n",
       "      <td>ENSG00000134202</td>\n",
       "      <td>rs4540683</td>\n",
       "      <td>chr1:108741038-110741038</td>\n",
       "      <td>0.185188</td>\n",
       "      <td>7.290630e-32</td>\n",
       "      <td>0.489905</td>\n",
       "      <td>109380590</td>\n",
       "      <td>109904878</td>\n",
       "      <td>-</td>\n",
       "      <td>163840</td>\n",
       "      <td>176592</td>\n",
       "      <td>A</td>\n",
       "      <td>C</td>\n",
       "      <td>12752</td>\n",
       "    </tr>\n",
       "    <tr>\n",
       "      <th>4</th>\n",
       "      <td>chr1</td>\n",
       "      <td>109728807</td>\n",
       "      <td>T</td>\n",
       "      <td>G</td>\n",
       "      <td>CD8-positive, alpha-beta T cell</td>\n",
       "      <td>GSTM3</td>\n",
       "      <td>ENSG00000134202</td>\n",
       "      <td>rs4970775</td>\n",
       "      <td>chr1:108741038-110741038</td>\n",
       "      <td>0.063999</td>\n",
       "      <td>2.111820e-31</td>\n",
       "      <td>0.488325</td>\n",
       "      <td>109380590</td>\n",
       "      <td>109904878</td>\n",
       "      <td>-</td>\n",
       "      <td>163840</td>\n",
       "      <td>176071</td>\n",
       "      <td>A</td>\n",
       "      <td>C</td>\n",
       "      <td>12231</td>\n",
       "    </tr>\n",
       "  </tbody>\n",
       "</table>\n",
       "</div>"
      ],
      "text/plain": [
       "  chrom        pos ref alt                        cell_type   gene  \\\n",
       "0  chr1    1000018   G   A  CD8-positive, alpha-beta T cell  ISG15   \n",
       "1  chr1    1002308   T   C  CD8-positive, alpha-beta T cell  ISG15   \n",
       "2  chr1  109727471   A   C  CD8-positive, alpha-beta T cell  GSTM3   \n",
       "3  chr1  109728286   T   G  CD8-positive, alpha-beta T cell  GSTM3   \n",
       "4  chr1  109728807   T   G  CD8-positive, alpha-beta T cell  GSTM3   \n",
       "\n",
       "           gene_id         rsid                    region       pip  \\\n",
       "0  ENSG00000187608  rs146254088         chr1:1138-2001138  0.117562   \n",
       "1  ENSG00000187608    rs2489000         chr1:1138-2001138  0.048946   \n",
       "2  ENSG00000134202   rs11101994  chr1:108741038-110741038  0.186748   \n",
       "3  ENSG00000134202    rs4540683  chr1:108741038-110741038  0.185188   \n",
       "4  ENSG00000134202    rs4970775  chr1:108741038-110741038  0.063999   \n",
       "\n",
       "         pvalue      beta      start        end strand  gene_mask_start  \\\n",
       "0  4.389340e-07 -0.725016     837298    1361586      +           163840   \n",
       "1  1.113460e-06  0.651041     837298    1361586      +           163840   \n",
       "2  7.235260e-32  0.490154  109380590  109904878      -           163840   \n",
       "3  7.290630e-32  0.489905  109380590  109904878      -           163840   \n",
       "4  2.111820e-31  0.488325  109380590  109904878      -           163840   \n",
       "\n",
       "   rel_pos ref_tx alt_tx  tss_dist  \n",
       "0   162720      G      A     -1120  \n",
       "1   165010      T      C      1170  \n",
       "2   177407      T      G     13567  \n",
       "3   176592      A      C     12752  \n",
       "4   176071      A      C     12231  "
      ]
     },
     "execution_count": 42,
     "metadata": {},
     "output_type": "execute_result"
    }
   ],
   "source": [
    "variant_df = process_variants(variant_df, ad, min_from_end=5000)\n",
    "variant_df"
   ]
  },
  {
   "cell_type": "markdown",
   "id": "a5809655-ca60-4fde-beeb-f1435a111372",
   "metadata": {},
   "source": [
    "Now we can create the reference and alternate allele containing inputs:"
   ]
  },
  {
   "cell_type": "code",
   "execution_count": 43,
   "id": "7e6bebe5-5f68-4860-9ab7-e642e8087465",
   "metadata": {},
   "outputs": [],
   "source": [
    "from decima.read_hdf5 import VariantDataset"
   ]
  },
  {
   "cell_type": "code",
   "execution_count": 44,
   "id": "e0bd0674-7a25-4172-8e66-5539478aefea",
   "metadata": {},
   "outputs": [],
   "source": [
    "dataset = VariantDataset(variant_df, h5_file)"
   ]
  },
  {
   "cell_type": "code",
   "execution_count": 45,
   "id": "6b1bd396-60fb-40a3-9627-63b88de89f27",
   "metadata": {},
   "outputs": [],
   "source": [
    "ref = dataset[0]\n",
    "alt = dataset[1]"
   ]
  },
  {
   "cell_type": "code",
   "execution_count": 46,
   "id": "4bd4292c-b878-4ffb-bed9-3188531ea473",
   "metadata": {},
   "outputs": [
    {
     "data": {
      "text/plain": [
       "(torch.Size([5, 524288]), torch.Size([5, 524288]))"
      ]
     },
     "execution_count": 46,
     "metadata": {},
     "output_type": "execute_result"
    }
   ],
   "source": [
    "ref.shape, alt.shape"
   ]
  },
  {
   "cell_type": "code",
   "execution_count": 47,
   "id": "fae19c30-0b08-4db7-bb8b-19e557079676",
   "metadata": {},
   "outputs": [
    {
     "data": {
      "text/plain": [
       "(array([0, 2]), array([162720, 162720]))"
      ]
     },
     "execution_count": 47,
     "metadata": {},
     "output_type": "execute_result"
    }
   ],
   "source": [
    "np.where(ref!=alt)"
   ]
  },
  {
   "cell_type": "code",
   "execution_count": 48,
   "id": "92b6d89d-babe-4331-ae4a-8e5f99270997",
   "metadata": {},
   "outputs": [
    {
     "data": {
      "text/plain": [
       "162720"
      ]
     },
     "execution_count": 48,
     "metadata": {},
     "output_type": "execute_result"
    }
   ],
   "source": [
    "1000018-837298"
   ]
  },
  {
   "cell_type": "markdown",
   "id": "d8d53466-db5d-41f6-9134-f5ac681e1c9c",
   "metadata": {},
   "source": [
    "Also, suppose we only want to make predictions in selected cell types, we can subset those tracks using the `Aggregate` transform."
   ]
  },
  {
   "cell_type": "code",
   "execution_count": 49,
   "id": "f6f476ab-0fb1-4df8-8136-8f05845c70fe",
   "metadata": {},
   "outputs": [
    {
     "data": {
      "text/plain": [
       "38"
      ]
     },
     "execution_count": 49,
     "metadata": {},
     "output_type": "execute_result"
    }
   ],
   "source": [
    "relevant_tasks = ad.obs.index[(ad.obs.tissue==\"blood\") & (ad.obs.disease.isin([\"healthy\", \"NA\"])) & (ad.obs.cell_type.isin(variant_df.cell_type))].tolist()\n",
    "len(relevant_tasks)"
   ]
  },
  {
   "cell_type": "code",
   "execution_count": 50,
   "id": "71edf105-1beb-41a5-bdbd-1fa824cd116e",
   "metadata": {},
   "outputs": [],
   "source": [
    "from grelu.transforms.prediction_transforms import Aggregate"
   ]
  },
  {
   "cell_type": "code",
   "execution_count": 51,
   "id": "6f01cab0-77d4-4493-ad2c-d9e837925bbc",
   "metadata": {},
   "outputs": [],
   "source": [
    "agg_transform = Aggregate(tasks=relevant_tasks, model=model)\n",
    "model.add_transform(agg_transform)"
   ]
  },
  {
   "cell_type": "markdown",
   "id": "cf26d615-5a20-4136-b5d3-bf7201757a6e",
   "metadata": {},
   "source": [
    "Now we can compute variant effects:"
   ]
  },
  {
   "cell_type": "code",
   "execution_count": 52,
   "id": "d230d764-0211-48a6-a2bd-8a62304f7b9d",
   "metadata": {},
   "outputs": [
    {
     "name": "stderr",
     "output_type": "stream",
     "text": [
      "GPU available: True (cuda), used: True\n",
      "TPU available: False, using: 0 TPU cores\n",
      "HPU available: False, using: 0 HPUs\n",
      "LOCAL_RANK: 0 - CUDA_VISIBLE_DEVICES: [0,1,2,3,4,5,6,7]\n"
     ]
    },
    {
     "name": "stdout",
     "output_type": "stream",
     "text": [
      "Predicting DataLoader 0: 100%|██████████████████████████████████████████████████████████████| 2/2 [00:01<00:00,  1.59it/s]\n"
     ]
    },
    {
     "data": {
      "text/plain": [
       "(5, 38)"
      ]
     },
     "execution_count": 52,
     "metadata": {},
     "output_type": "execute_result"
    }
   ],
   "source": [
    "preds = model.predict_on_dataset(dataset, devices=1, batch_size=8, num_workers=16)\n",
    "preds = anndata.AnnData(X=preds, obs=variant_df.set_index('rsid'), var=ad.obs.loc[relevant_tasks])\n",
    "preds.shape"
   ]
  },
  {
   "cell_type": "code",
   "execution_count": 53,
   "id": "3d87cdc2-2514-422f-9f0a-6739a6b824f8",
   "metadata": {},
   "outputs": [
    {
     "data": {
      "text/plain": [
       "AnnData object with n_obs × n_vars = 5 × 38\n",
       "    obs: 'chrom', 'pos', 'ref', 'alt', 'cell_type', 'gene', 'gene_id', 'region', 'pip', 'pvalue', 'beta', 'start', 'end', 'strand', 'gene_mask_start', 'rel_pos', 'ref_tx', 'alt_tx', 'tss_dist'\n",
       "    var: 'cell_type', 'tissue', 'organ', 'disease', 'study', 'dataset', 'region', 'subregion', 'celltype_coarse', 'n_cells', 'total_counts', 'n_genes', 'size_factor', 'train_pearson', 'val_pearson', 'test_pearson'"
      ]
     },
     "execution_count": 53,
     "metadata": {},
     "output_type": "execute_result"
    }
   ],
   "source": [
    "preds"
   ]
  },
  {
   "cell_type": "code",
   "execution_count": 54,
   "id": "801bf506-2d0b-4dbb-960c-2c192598e0ea",
   "metadata": {},
   "outputs": [
    {
     "data": {
      "text/html": [
       "<div>\n",
       "<style scoped>\n",
       "    .dataframe tbody tr th:only-of-type {\n",
       "        vertical-align: middle;\n",
       "    }\n",
       "\n",
       "    .dataframe tbody tr th {\n",
       "        vertical-align: top;\n",
       "    }\n",
       "\n",
       "    .dataframe thead th {\n",
       "        text-align: right;\n",
       "    }\n",
       "</style>\n",
       "<table border=\"1\" class=\"dataframe\">\n",
       "  <thead>\n",
       "    <tr style=\"text-align: right;\">\n",
       "      <th></th>\n",
       "      <th>chrom</th>\n",
       "      <th>pos</th>\n",
       "      <th>ref</th>\n",
       "      <th>alt</th>\n",
       "      <th>cell_type</th>\n",
       "      <th>gene</th>\n",
       "      <th>gene_id</th>\n",
       "      <th>region</th>\n",
       "      <th>pip</th>\n",
       "      <th>pvalue</th>\n",
       "      <th>beta</th>\n",
       "      <th>start</th>\n",
       "      <th>end</th>\n",
       "      <th>strand</th>\n",
       "      <th>gene_mask_start</th>\n",
       "      <th>rel_pos</th>\n",
       "      <th>ref_tx</th>\n",
       "      <th>alt_tx</th>\n",
       "      <th>tss_dist</th>\n",
       "    </tr>\n",
       "    <tr>\n",
       "      <th>rsid</th>\n",
       "      <th></th>\n",
       "      <th></th>\n",
       "      <th></th>\n",
       "      <th></th>\n",
       "      <th></th>\n",
       "      <th></th>\n",
       "      <th></th>\n",
       "      <th></th>\n",
       "      <th></th>\n",
       "      <th></th>\n",
       "      <th></th>\n",
       "      <th></th>\n",
       "      <th></th>\n",
       "      <th></th>\n",
       "      <th></th>\n",
       "      <th></th>\n",
       "      <th></th>\n",
       "      <th></th>\n",
       "      <th></th>\n",
       "    </tr>\n",
       "  </thead>\n",
       "  <tbody>\n",
       "    <tr>\n",
       "      <th>rs146254088</th>\n",
       "      <td>chr1</td>\n",
       "      <td>1000018</td>\n",
       "      <td>G</td>\n",
       "      <td>A</td>\n",
       "      <td>CD8-positive, alpha-beta T cell</td>\n",
       "      <td>ISG15</td>\n",
       "      <td>ENSG00000187608</td>\n",
       "      <td>chr1:1138-2001138</td>\n",
       "      <td>0.117562</td>\n",
       "      <td>4.389340e-07</td>\n",
       "      <td>-0.725016</td>\n",
       "      <td>837298</td>\n",
       "      <td>1361586</td>\n",
       "      <td>+</td>\n",
       "      <td>163840</td>\n",
       "      <td>162720</td>\n",
       "      <td>G</td>\n",
       "      <td>A</td>\n",
       "      <td>-1120</td>\n",
       "    </tr>\n",
       "    <tr>\n",
       "      <th>rs2489000</th>\n",
       "      <td>chr1</td>\n",
       "      <td>1002308</td>\n",
       "      <td>T</td>\n",
       "      <td>C</td>\n",
       "      <td>CD8-positive, alpha-beta T cell</td>\n",
       "      <td>ISG15</td>\n",
       "      <td>ENSG00000187608</td>\n",
       "      <td>chr1:1138-2001138</td>\n",
       "      <td>0.048946</td>\n",
       "      <td>1.113460e-06</td>\n",
       "      <td>0.651041</td>\n",
       "      <td>837298</td>\n",
       "      <td>1361586</td>\n",
       "      <td>+</td>\n",
       "      <td>163840</td>\n",
       "      <td>165010</td>\n",
       "      <td>T</td>\n",
       "      <td>C</td>\n",
       "      <td>1170</td>\n",
       "    </tr>\n",
       "    <tr>\n",
       "      <th>rs11101994</th>\n",
       "      <td>chr1</td>\n",
       "      <td>109727471</td>\n",
       "      <td>A</td>\n",
       "      <td>C</td>\n",
       "      <td>CD8-positive, alpha-beta T cell</td>\n",
       "      <td>GSTM3</td>\n",
       "      <td>ENSG00000134202</td>\n",
       "      <td>chr1:108741038-110741038</td>\n",
       "      <td>0.186748</td>\n",
       "      <td>7.235260e-32</td>\n",
       "      <td>0.490154</td>\n",
       "      <td>109380590</td>\n",
       "      <td>109904878</td>\n",
       "      <td>-</td>\n",
       "      <td>163840</td>\n",
       "      <td>177407</td>\n",
       "      <td>T</td>\n",
       "      <td>G</td>\n",
       "      <td>13567</td>\n",
       "    </tr>\n",
       "    <tr>\n",
       "      <th>rs4540683</th>\n",
       "      <td>chr1</td>\n",
       "      <td>109728286</td>\n",
       "      <td>T</td>\n",
       "      <td>G</td>\n",
       "      <td>CD8-positive, alpha-beta T cell</td>\n",
       "      <td>GSTM3</td>\n",
       "      <td>ENSG00000134202</td>\n",
       "      <td>chr1:108741038-110741038</td>\n",
       "      <td>0.185188</td>\n",
       "      <td>7.290630e-32</td>\n",
       "      <td>0.489905</td>\n",
       "      <td>109380590</td>\n",
       "      <td>109904878</td>\n",
       "      <td>-</td>\n",
       "      <td>163840</td>\n",
       "      <td>176592</td>\n",
       "      <td>A</td>\n",
       "      <td>C</td>\n",
       "      <td>12752</td>\n",
       "    </tr>\n",
       "    <tr>\n",
       "      <th>rs4970775</th>\n",
       "      <td>chr1</td>\n",
       "      <td>109728807</td>\n",
       "      <td>T</td>\n",
       "      <td>G</td>\n",
       "      <td>CD8-positive, alpha-beta T cell</td>\n",
       "      <td>GSTM3</td>\n",
       "      <td>ENSG00000134202</td>\n",
       "      <td>chr1:108741038-110741038</td>\n",
       "      <td>0.063999</td>\n",
       "      <td>2.111820e-31</td>\n",
       "      <td>0.488325</td>\n",
       "      <td>109380590</td>\n",
       "      <td>109904878</td>\n",
       "      <td>-</td>\n",
       "      <td>163840</td>\n",
       "      <td>176071</td>\n",
       "      <td>A</td>\n",
       "      <td>C</td>\n",
       "      <td>12231</td>\n",
       "    </tr>\n",
       "  </tbody>\n",
       "</table>\n",
       "</div>"
      ],
      "text/plain": [
       "            chrom        pos ref alt                        cell_type   gene  \\\n",
       "rsid                                                                           \n",
       "rs146254088  chr1    1000018   G   A  CD8-positive, alpha-beta T cell  ISG15   \n",
       "rs2489000    chr1    1002308   T   C  CD8-positive, alpha-beta T cell  ISG15   \n",
       "rs11101994   chr1  109727471   A   C  CD8-positive, alpha-beta T cell  GSTM3   \n",
       "rs4540683    chr1  109728286   T   G  CD8-positive, alpha-beta T cell  GSTM3   \n",
       "rs4970775    chr1  109728807   T   G  CD8-positive, alpha-beta T cell  GSTM3   \n",
       "\n",
       "                     gene_id                    region       pip  \\\n",
       "rsid                                                               \n",
       "rs146254088  ENSG00000187608         chr1:1138-2001138  0.117562   \n",
       "rs2489000    ENSG00000187608         chr1:1138-2001138  0.048946   \n",
       "rs11101994   ENSG00000134202  chr1:108741038-110741038  0.186748   \n",
       "rs4540683    ENSG00000134202  chr1:108741038-110741038  0.185188   \n",
       "rs4970775    ENSG00000134202  chr1:108741038-110741038  0.063999   \n",
       "\n",
       "                   pvalue      beta      start        end strand  \\\n",
       "rsid                                                               \n",
       "rs146254088  4.389340e-07 -0.725016     837298    1361586      +   \n",
       "rs2489000    1.113460e-06  0.651041     837298    1361586      +   \n",
       "rs11101994   7.235260e-32  0.490154  109380590  109904878      -   \n",
       "rs4540683    7.290630e-32  0.489905  109380590  109904878      -   \n",
       "rs4970775    2.111820e-31  0.488325  109380590  109904878      -   \n",
       "\n",
       "             gene_mask_start  rel_pos ref_tx alt_tx  tss_dist  \n",
       "rsid                                                           \n",
       "rs146254088           163840   162720      G      A     -1120  \n",
       "rs2489000             163840   165010      T      C      1170  \n",
       "rs11101994            163840   177407      T      G     13567  \n",
       "rs4540683             163840   176592      A      C     12752  \n",
       "rs4970775             163840   176071      A      C     12231  "
      ]
     },
     "execution_count": 54,
     "metadata": {},
     "output_type": "execute_result"
    }
   ],
   "source": [
    "preds.obs"
   ]
  },
  {
   "cell_type": "code",
   "execution_count": 55,
   "id": "f1675588-e6d1-471a-9a8f-5eb95633d078",
   "metadata": {},
   "outputs": [
    {
     "data": {
      "text/html": [
       "<div>\n",
       "<style scoped>\n",
       "    .dataframe tbody tr th:only-of-type {\n",
       "        vertical-align: middle;\n",
       "    }\n",
       "\n",
       "    .dataframe tbody tr th {\n",
       "        vertical-align: top;\n",
       "    }\n",
       "\n",
       "    .dataframe thead th {\n",
       "        text-align: right;\n",
       "    }\n",
       "</style>\n",
       "<table border=\"1\" class=\"dataframe\">\n",
       "  <thead>\n",
       "    <tr style=\"text-align: right;\">\n",
       "      <th></th>\n",
       "      <th>cell_type</th>\n",
       "      <th>tissue</th>\n",
       "      <th>organ</th>\n",
       "      <th>disease</th>\n",
       "      <th>study</th>\n",
       "      <th>dataset</th>\n",
       "      <th>region</th>\n",
       "      <th>subregion</th>\n",
       "      <th>celltype_coarse</th>\n",
       "      <th>n_cells</th>\n",
       "      <th>total_counts</th>\n",
       "      <th>n_genes</th>\n",
       "      <th>size_factor</th>\n",
       "      <th>train_pearson</th>\n",
       "      <th>val_pearson</th>\n",
       "      <th>test_pearson</th>\n",
       "    </tr>\n",
       "  </thead>\n",
       "  <tbody>\n",
       "    <tr>\n",
       "      <th>agg_843</th>\n",
       "      <td>CD8-positive, alpha-beta T cell</td>\n",
       "      <td>blood</td>\n",
       "      <td>blood</td>\n",
       "      <td>NA</td>\n",
       "      <td>GSE128243</td>\n",
       "      <td>scimilarity</td>\n",
       "      <td>nan</td>\n",
       "      <td>nan</td>\n",
       "      <td>NaN</td>\n",
       "      <td>5597</td>\n",
       "      <td>10483704.0</td>\n",
       "      <td>13250</td>\n",
       "      <td>28325.408660</td>\n",
       "      <td>0.941655</td>\n",
       "      <td>0.808412</td>\n",
       "      <td>0.813604</td>\n",
       "    </tr>\n",
       "    <tr>\n",
       "      <th>agg_844</th>\n",
       "      <td>CD8-positive, alpha-beta T cell</td>\n",
       "      <td>blood</td>\n",
       "      <td>blood</td>\n",
       "      <td>NA</td>\n",
       "      <td>GSE132950</td>\n",
       "      <td>scimilarity</td>\n",
       "      <td>nan</td>\n",
       "      <td>nan</td>\n",
       "      <td>NaN</td>\n",
       "      <td>1334</td>\n",
       "      <td>7219685.0</td>\n",
       "      <td>13394</td>\n",
       "      <td>32566.675556</td>\n",
       "      <td>0.964465</td>\n",
       "      <td>0.847792</td>\n",
       "      <td>0.843420</td>\n",
       "    </tr>\n",
       "    <tr>\n",
       "      <th>agg_845</th>\n",
       "      <td>CD8-positive, alpha-beta T cell</td>\n",
       "      <td>blood</td>\n",
       "      <td>blood</td>\n",
       "      <td>NA</td>\n",
       "      <td>GSE135325</td>\n",
       "      <td>scimilarity</td>\n",
       "      <td>nan</td>\n",
       "      <td>nan</td>\n",
       "      <td>NaN</td>\n",
       "      <td>261</td>\n",
       "      <td>612912.0</td>\n",
       "      <td>10905</td>\n",
       "      <td>29777.260442</td>\n",
       "      <td>0.936802</td>\n",
       "      <td>0.808541</td>\n",
       "      <td>0.801103</td>\n",
       "    </tr>\n",
       "    <tr>\n",
       "      <th>agg_847</th>\n",
       "      <td>CD8-positive, alpha-beta T cell</td>\n",
       "      <td>blood</td>\n",
       "      <td>blood</td>\n",
       "      <td>NA</td>\n",
       "      <td>GSE149356</td>\n",
       "      <td>scimilarity</td>\n",
       "      <td>nan</td>\n",
       "      <td>nan</td>\n",
       "      <td>NaN</td>\n",
       "      <td>2054</td>\n",
       "      <td>7534250.0</td>\n",
       "      <td>13387</td>\n",
       "      <td>33923.162424</td>\n",
       "      <td>0.951058</td>\n",
       "      <td>0.818623</td>\n",
       "      <td>0.830627</td>\n",
       "    </tr>\n",
       "    <tr>\n",
       "      <th>agg_849</th>\n",
       "      <td>CD8-positive, alpha-beta T cell</td>\n",
       "      <td>blood</td>\n",
       "      <td>blood</td>\n",
       "      <td>NA</td>\n",
       "      <td>GSE151310</td>\n",
       "      <td>scimilarity</td>\n",
       "      <td>nan</td>\n",
       "      <td>nan</td>\n",
       "      <td>NaN</td>\n",
       "      <td>12443</td>\n",
       "      <td>29209159.0</td>\n",
       "      <td>13809</td>\n",
       "      <td>29807.259230</td>\n",
       "      <td>0.965129</td>\n",
       "      <td>0.829639</td>\n",
       "      <td>0.820742</td>\n",
       "    </tr>\n",
       "  </tbody>\n",
       "</table>\n",
       "</div>"
      ],
      "text/plain": [
       "                               cell_type tissue  organ disease      study  \\\n",
       "agg_843  CD8-positive, alpha-beta T cell  blood  blood      NA  GSE128243   \n",
       "agg_844  CD8-positive, alpha-beta T cell  blood  blood      NA  GSE132950   \n",
       "agg_845  CD8-positive, alpha-beta T cell  blood  blood      NA  GSE135325   \n",
       "agg_847  CD8-positive, alpha-beta T cell  blood  blood      NA  GSE149356   \n",
       "agg_849  CD8-positive, alpha-beta T cell  blood  blood      NA  GSE151310   \n",
       "\n",
       "             dataset region subregion celltype_coarse  n_cells  total_counts  \\\n",
       "agg_843  scimilarity    nan       nan             NaN     5597    10483704.0   \n",
       "agg_844  scimilarity    nan       nan             NaN     1334     7219685.0   \n",
       "agg_845  scimilarity    nan       nan             NaN      261      612912.0   \n",
       "agg_847  scimilarity    nan       nan             NaN     2054     7534250.0   \n",
       "agg_849  scimilarity    nan       nan             NaN    12443    29209159.0   \n",
       "\n",
       "         n_genes   size_factor  train_pearson  val_pearson  test_pearson  \n",
       "agg_843    13250  28325.408660       0.941655     0.808412      0.813604  \n",
       "agg_844    13394  32566.675556       0.964465     0.847792      0.843420  \n",
       "agg_845    10905  29777.260442       0.936802     0.808541      0.801103  \n",
       "agg_847    13387  33923.162424       0.951058     0.818623      0.830627  \n",
       "agg_849    13809  29807.259230       0.965129     0.829639      0.820742  "
      ]
     },
     "execution_count": 55,
     "metadata": {},
     "output_type": "execute_result"
    }
   ],
   "source": [
    "preds.var.head()"
   ]
  },
  {
   "cell_type": "code",
   "execution_count": 56,
   "id": "223af146-c1e5-4772-b94f-2e549d189da5",
   "metadata": {},
   "outputs": [
    {
     "data": {
      "text/plain": [
       "(5, 38)"
      ]
     },
     "execution_count": 56,
     "metadata": {},
     "output_type": "execute_result"
    }
   ],
   "source": [
    "preds.X.shape"
   ]
  },
  {
   "cell_type": "code",
   "execution_count": null,
   "id": "adcf4891-963c-422c-b0d7-8f9026067b00",
   "metadata": {},
   "outputs": [],
   "source": []
  }
 ],
 "metadata": {
  "kernelspec": {
   "display_name": "Python 3 (ipykernel)",
   "language": "python",
   "name": "python3"
  },
  "language_info": {
   "codemirror_mode": {
    "name": "ipython",
    "version": 3
   },
   "file_extension": ".py",
   "mimetype": "text/x-python",
   "name": "python",
   "nbconvert_exporter": "python",
   "pygments_lexer": "ipython3",
   "version": "3.11.9"
  }
 },
 "nbformat": 4,
 "nbformat_minor": 5
}
