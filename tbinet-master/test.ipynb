{
 "cells": [
  {
   "cell_type": "code",
   "execution_count": null,
   "metadata": {},
   "outputs": [],
   "source": [
    "import numpy as np\n",
    "import scipy.io\n",
    "from sklearn import metrics\n",
    "import pandas as pd\n",
    "import os\n",
    "os.environ['THEANO_FLAGS'] = \"device=cuda0,force_device=True,floatX=float32\"\n",
    "import theano\n",
    "print(theano.config.device)\n",
    "\n",
    "from keras.layers import Embedding\n",
    "from keras.models import Sequential\n",
    "from keras.models import Model\n",
    "from keras.layers import Dense, Dropout, Activation, Flatten, Layer, merge, Input, Concatenate, Reshape\n",
    "from keras.layers.convolutional import Conv1D, MaxPooling1D\n",
    "from keras.layers.pooling import GlobalMaxPooling1D\n",
    "from keras.layers.recurrent import LSTM\n",
    "from keras.layers.wrappers import Bidirectional, TimeDistributed\n",
    "from keras.models import load_model\n",
    "from keras.callbacks import ModelCheckpoint, EarlyStopping"
   ]
  },
  {
   "cell_type": "code",
   "execution_count": 13,
   "metadata": {},
   "outputs": [],
   "source": [
    "def get_auroc(preds, obs):\n",
    "    fpr, tpr, thresholds  = metrics.roc_curve(obs, preds, drop_intermediate=False)\n",
    "    auroc = metrics.auc(fpr,tpr)\n",
    "    return auroc\n",
    "\n",
    "def get_aupr(preds, obs):\n",
    "    precision, recall, thresholds  = metrics.precision_recall_curve(obs, preds)\n",
    "    aupr = metrics.auc(recall,precision)\n",
    "    return aupr\n",
    "\n",
    "def get_aurocs_and_auprs(tpreds, tobs):\n",
    "    tpreds_df = pd.DataFrame(tpreds)\n",
    "    tobs_df = pd.DataFrame(tobs)\n",
    "    \n",
    "    task_list = []\n",
    "    auroc_list = []\n",
    "    aupr_list = []\n",
    "    for task in tpreds_df:\n",
    "        pred = tpreds_df[task]\n",
    "        obs = tobs_df[task]\n",
    "        auroc=round(get_auroc(pred,obs),5)\n",
    "        aupr = round(get_aupr(pred,obs),5)\n",
    "        task_list.append(task)\n",
    "        auroc_list.append(auroc)\n",
    "        aupr_list.append(aupr)\n",
    "    return auroc_list, aupr_list"
   ]
  },
  {
   "cell_type": "markdown",
   "metadata": {},
   "source": [
    "### Load data (test)\n"
   ]
  },
  {
   "cell_type": "code",
   "execution_count": 14,
   "metadata": {
    "scrolled": true
   },
   "outputs": [],
   "source": [
    "data_folder = \"./data/\"\n",
    "\n",
    "testmat = scipy.io.loadmat(data_folder+'test.mat')"
   ]
  },
  {
   "cell_type": "markdown",
   "metadata": {},
   "source": [
    "### Load model"
   ]
  },
  {
   "cell_type": "code",
   "execution_count": null,
   "metadata": {},
   "outputs": [],
   "source": [
    "model = load_model(\"./model/best/tbinet_best.hdf5\")\n",
    "print('model summary')\n",
    "model.summary()"
   ]
  },
  {
   "cell_type": "markdown",
   "metadata": {},
   "source": [
    "### Calculate averaged AUROC and AUPR"
   ]
  },
  {
   "cell_type": "code",
   "execution_count": null,
   "metadata": {},
   "outputs": [],
   "source": [
    "tpreds = model.predict(np.transpose(testmat['testxdata'],axes=(0,2,1)),verbose=1)\n",
    "tpreds_temp = np.copy(tpreds)\n",
    "reverse_start_id = int(testmat['testdata'][:,125:815].shape[0]/2)\n",
    "\n",
    "for i in range(reverse_start_id):\n",
    "    tpreds_avg_temp = (tpreds_temp[i] + tpreds_temp[reverse_start_id+i])/2.0\n",
    "    tpreds_temp[i] = tpreds_avg_temp\n",
    "    tpreds_temp[reverse_start_id+i] = tpreds_avg_temp\n",
    "\n",
    "\n",
    "aurocs, auprs = get_aurocs_and_auprs(tpreds_temp,testmat['testdata'][:,125:815])\n",
    "print(\"Averaged AUROC:\",np.nanmean(aurocs))\n",
    "print(\"Averaged AUPR:\", np.nanmean(auprs))"
   ]
  }
 ],
 "metadata": {
  "kernelspec": {
   "display_name": "Python 3",
   "language": "python",
   "name": "python3"
  },
  "language_info": {
   "codemirror_mode": {
    "name": "ipython",
    "version": 3
   },
   "file_extension": ".py",
   "mimetype": "text/x-python",
   "name": "python",
   "nbconvert_exporter": "python",
   "pygments_lexer": "ipython3",
   "version": "3.6.8"
  }
 },
 "nbformat": 4,
 "nbformat_minor": 2
}
